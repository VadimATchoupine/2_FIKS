{
 "cells": [
  {
   "cell_type": "markdown",
   "metadata": {},
   "source": [
    "## 1. FKS"
   ]
  },
  {
   "cell_type": "code",
   "execution_count": 1,
   "metadata": {
    "collapsed": true
   },
   "outputs": [],
   "source": [
    "import numpy as np\n",
    "from sympy import *"
   ]
  },
  {
   "cell_type": "code",
   "execution_count": 2,
   "metadata": {
    "collapsed": true
   },
   "outputs": [],
   "source": [
    "C1 = Symbol('C1')\n",
    "C2 = Symbol('C2')\n",
    "C3 = Symbol('C3')\n",
    "C4 = Symbol('C4')\n",
    "C5 = Symbol('C5')\n",
    "C6 = Symbol('C6')\n",
    "\n",
    "S1 = Symbol('S1')\n",
    "S2 = Symbol('S2')\n",
    "S3 = Symbol('S3')\n",
    "S4 = Symbol('S4')\n",
    "S5 = Symbol('S5')\n",
    "S6 = Symbol('S6')\n",
    "\n",
    "L1 = Symbol('L1')\n",
    "L2 = Symbol('L2')\n",
    "L3 = Symbol('L3')\n",
    "L4 = Symbol('L4')\n",
    "L5 = Symbol('L5')\n",
    "L6 = Symbol('L6')\n",
    "L7 = Symbol('L7')\n",
    "\n",
    "A1 = Matrix([[C1,0,S1,0],[S1,0,-C1,0],[0,1,0,0],[0,0,0,1]])\n",
    "A2 = Matrix([[C2,0,-S2,0],[S2,0,C2,0],[0,-1,0,L1+L2],[0,0,0,1]])\n",
    "A3 = Matrix([[C3,0,S3,0],[S3,0,-C3,0],[0,1,0,L3],[0,0,0,1]])\n",
    "A4 = Matrix([[S4,0,C4,0],[-C4,0,S4,0],[0,-1,0,L4+L5],[0,0,0,1]])\n",
    "A5 = Matrix([[C5,0,-S5,L6*C5],[S5,0,C5,L6*S5],[0,-1,0,0],[0,0,0,1]])\n",
    "A6 = Matrix([[C6,-S6,0,L7*C6],[S6,C6,0,L7*S6],[0,0,1,0],[0,0,0,1]])"
   ]
  },
  {
   "cell_type": "code",
   "execution_count": 3,
   "metadata": {
    "collapsed": true
   },
   "outputs": [],
   "source": [
    "T = A1*A2*A3*A4*A5*A6\n",
    "T_theoretical = Matrix([['nx','ox','ax','px'],['ny','oy','ay','py'],['nz','oz','az','pz'],[0,0,0,1]])"
   ]
  },
  {
   "cell_type": "code",
   "execution_count": 4,
   "metadata": {
    "collapsed": false
   },
   "outputs": [
    {
     "name": "stdout",
     "output_type": "stream",
     "text": [
      "Forward Kinematics solution: Matrix([[C6*(C5*(C1*C4*S2 + S4*(C1*C2*C3 - S1*S3)) + S5*(-C1*C2*S3 - C3*S1)) + S6*(C1*S2*S4 - C4*(C1*C2*C3 - S1*S3)), C6*(C1*S2*S4 - C4*(C1*C2*C3 - S1*S3)) - S6*(C5*(C1*C4*S2 + S4*(C1*C2*C3 - S1*S3)) + S5*(-C1*C2*S3 - C3*S1)), C5*(-C1*C2*S3 - C3*S1) - S5*(C1*C4*S2 + S4*(C1*C2*C3 - S1*S3)), -C1*L3*S2 + C5*L6*(C1*C4*S2 + S4*(C1*C2*C3 - S1*S3)) + C6*L7*(C5*(C1*C4*S2 + S4*(C1*C2*C3 - S1*S3)) + S5*(-C1*C2*S3 - C3*S1)) + L6*S5*(-C1*C2*S3 - C3*S1) + L7*S6*(C1*S2*S4 - C4*(C1*C2*C3 - S1*S3)) + S1*(L1 + L2) + (L4 + L5)*(C1*C2*S3 + C3*S1)], [C6*(C5*(C4*S1*S2 + S4*(C1*S3 + C2*C3*S1)) + S5*(C1*C3 - C2*S1*S3)) + S6*(-C4*(C1*S3 + C2*C3*S1) + S1*S2*S4), C6*(-C4*(C1*S3 + C2*C3*S1) + S1*S2*S4) - S6*(C5*(C4*S1*S2 + S4*(C1*S3 + C2*C3*S1)) + S5*(C1*C3 - C2*S1*S3)), C5*(C1*C3 - C2*S1*S3) - S5*(C4*S1*S2 + S4*(C1*S3 + C2*C3*S1)), -C1*(L1 + L2) + C5*L6*(C4*S1*S2 + S4*(C1*S3 + C2*C3*S1)) + C6*L7*(C5*(C4*S1*S2 + S4*(C1*S3 + C2*C3*S1)) + S5*(C1*C3 - C2*S1*S3)) - L3*S1*S2 + L6*S5*(C1*C3 - C2*S1*S3) + L7*S6*(-C4*(C1*S3 + C2*C3*S1) + S1*S2*S4) + (L4 + L5)*(-C1*C3 + C2*S1*S3)], [C6*(C5*(-C2*C4 + C3*S2*S4) - S2*S3*S5) + S6*(-C2*S4 - C3*C4*S2), C6*(-C2*S4 - C3*C4*S2) - S6*(C5*(-C2*C4 + C3*S2*S4) - S2*S3*S5), -C5*S2*S3 - S5*(-C2*C4 + C3*S2*S4), C2*L3 + C5*L6*(-C2*C4 + C3*S2*S4) + C6*L7*(C5*(-C2*C4 + C3*S2*S4) - S2*S3*S5) - L6*S2*S3*S5 + L7*S6*(-C2*S4 - C3*C4*S2) + S2*S3*(L4 + L5)], [0, 0, 0, 1]])\n"
     ]
    }
   ],
   "source": [
    "print 'Forward Kinematics solution: ' + str(T)"
   ]
  },
  {
   "cell_type": "markdown",
   "metadata": {},
   "source": [
    "## 2. IKS"
   ]
  },
  {
   "cell_type": "code",
   "execution_count": 5,
   "metadata": {
    "collapsed": true
   },
   "outputs": [],
   "source": [
    "T1 = A1"
   ]
  },
  {
   "cell_type": "code",
   "execution_count": 6,
   "metadata": {
    "collapsed": true
   },
   "outputs": [],
   "source": [
    "T2 = T1*A2"
   ]
  },
  {
   "cell_type": "code",
   "execution_count": 7,
   "metadata": {
    "collapsed": true
   },
   "outputs": [],
   "source": [
    "T3 = T2*A3"
   ]
  },
  {
   "cell_type": "code",
   "execution_count": 8,
   "metadata": {
    "collapsed": true
   },
   "outputs": [],
   "source": [
    "T4 = T3*A4"
   ]
  },
  {
   "cell_type": "code",
   "execution_count": 9,
   "metadata": {
    "collapsed": true
   },
   "outputs": [],
   "source": [
    "T5 = T4*A5"
   ]
  },
  {
   "cell_type": "code",
   "execution_count": 10,
   "metadata": {
    "collapsed": true
   },
   "outputs": [],
   "source": [
    "T6 = T5*A6"
   ]
  },
  {
   "cell_type": "markdown",
   "metadata": {},
   "source": [
    "in progress"
   ]
  },
  {
   "cell_type": "code",
   "execution_count": null,
   "metadata": {
    "collapsed": true
   },
   "outputs": [],
   "source": []
  }
 ],
 "metadata": {
  "kernelspec": {
   "display_name": "Python [Root]",
   "language": "python",
   "name": "Python [Root]"
  },
  "language_info": {
   "codemirror_mode": {
    "name": "ipython",
    "version": 2
   },
   "file_extension": ".py",
   "mimetype": "text/x-python",
   "name": "python",
   "nbconvert_exporter": "python",
   "pygments_lexer": "ipython2",
   "version": "2.7.12"
  }
 },
 "nbformat": 4,
 "nbformat_minor": 0
}
